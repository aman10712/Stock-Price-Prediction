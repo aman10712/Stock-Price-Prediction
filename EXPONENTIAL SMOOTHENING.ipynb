{
 "cells": [
  {
   "cell_type": "code",
   "execution_count": 1,
   "id": "b26056c1",
   "metadata": {},
   "outputs": [],
   "source": [
    "import pandas as pd\n",
    "import matplotlib.pyplot as plt\n",
    "import seaborn as sns\n",
    "import numpy as np\n",
    "import warnings\n",
    "warnings.filterwarnings('ignore')"
   ]
  },
  {
   "cell_type": "code",
   "execution_count": 2,
   "id": "3a1fa223",
   "metadata": {},
   "outputs": [],
   "source": [
    "gold = pd.read_csv('Gold_Price.csv')"
   ]
  },
  {
   "cell_type": "code",
   "execution_count": 3,
   "id": "e2142303",
   "metadata": {},
   "outputs": [
    {
     "data": {
      "text/html": [
       "<div>\n",
       "<style scoped>\n",
       "    .dataframe tbody tr th:only-of-type {\n",
       "        vertical-align: middle;\n",
       "    }\n",
       "\n",
       "    .dataframe tbody tr th {\n",
       "        vertical-align: top;\n",
       "    }\n",
       "\n",
       "    .dataframe thead th {\n",
       "        text-align: right;\n",
       "    }\n",
       "</style>\n",
       "<table border=\"1\" class=\"dataframe\">\n",
       "  <thead>\n",
       "    <tr style=\"text-align: right;\">\n",
       "      <th></th>\n",
       "      <th>Date</th>\n",
       "      <th>Open</th>\n",
       "      <th>High</th>\n",
       "      <th>Low</th>\n",
       "      <th>Close</th>\n",
       "      <th>Adj Close</th>\n",
       "      <th>Volume</th>\n",
       "    </tr>\n",
       "  </thead>\n",
       "  <tbody>\n",
       "    <tr>\n",
       "      <th>0</th>\n",
       "      <td>2013-01-02</td>\n",
       "      <td>1672.800049</td>\n",
       "      <td>1693.800049</td>\n",
       "      <td>1670.000000</td>\n",
       "      <td>1687.900024</td>\n",
       "      <td>1687.900024</td>\n",
       "      <td>35</td>\n",
       "    </tr>\n",
       "    <tr>\n",
       "      <th>1</th>\n",
       "      <td>2013-01-03</td>\n",
       "      <td>1686.099976</td>\n",
       "      <td>1686.800049</td>\n",
       "      <td>1662.000000</td>\n",
       "      <td>1673.699951</td>\n",
       "      <td>1673.699951</td>\n",
       "      <td>140</td>\n",
       "    </tr>\n",
       "    <tr>\n",
       "      <th>2</th>\n",
       "      <td>2013-01-04</td>\n",
       "      <td>1647.000000</td>\n",
       "      <td>1658.300049</td>\n",
       "      <td>1625.699951</td>\n",
       "      <td>1648.099976</td>\n",
       "      <td>1648.099976</td>\n",
       "      <td>199</td>\n",
       "    </tr>\n",
       "    <tr>\n",
       "      <th>3</th>\n",
       "      <td>2013-01-07</td>\n",
       "      <td>1656.500000</td>\n",
       "      <td>1659.900024</td>\n",
       "      <td>1643.800049</td>\n",
       "      <td>1645.500000</td>\n",
       "      <td>1645.500000</td>\n",
       "      <td>49</td>\n",
       "    </tr>\n",
       "    <tr>\n",
       "      <th>4</th>\n",
       "      <td>2013-01-08</td>\n",
       "      <td>1647.699951</td>\n",
       "      <td>1661.500000</td>\n",
       "      <td>1647.699951</td>\n",
       "      <td>1661.500000</td>\n",
       "      <td>1661.500000</td>\n",
       "      <td>17</td>\n",
       "    </tr>\n",
       "    <tr>\n",
       "      <th>...</th>\n",
       "      <td>...</td>\n",
       "      <td>...</td>\n",
       "      <td>...</td>\n",
       "      <td>...</td>\n",
       "      <td>...</td>\n",
       "      <td>...</td>\n",
       "      <td>...</td>\n",
       "    </tr>\n",
       "    <tr>\n",
       "      <th>2668</th>\n",
       "      <td>2023-08-14</td>\n",
       "      <td>1909.300049</td>\n",
       "      <td>1912.599976</td>\n",
       "      <td>1903.300049</td>\n",
       "      <td>1910.599976</td>\n",
       "      <td>1910.599976</td>\n",
       "      <td>46</td>\n",
       "    </tr>\n",
       "    <tr>\n",
       "      <th>2669</th>\n",
       "      <td>2023-08-15</td>\n",
       "      <td>1906.000000</td>\n",
       "      <td>1907.699951</td>\n",
       "      <td>1895.000000</td>\n",
       "      <td>1902.500000</td>\n",
       "      <td>1902.500000</td>\n",
       "      <td>73</td>\n",
       "    </tr>\n",
       "    <tr>\n",
       "      <th>2670</th>\n",
       "      <td>2023-08-16</td>\n",
       "      <td>1904.500000</td>\n",
       "      <td>1904.500000</td>\n",
       "      <td>1890.300049</td>\n",
       "      <td>1896.099976</td>\n",
       "      <td>1896.099976</td>\n",
       "      <td>22</td>\n",
       "    </tr>\n",
       "    <tr>\n",
       "      <th>2671</th>\n",
       "      <td>2023-08-17</td>\n",
       "      <td>1893.699951</td>\n",
       "      <td>1902.400024</td>\n",
       "      <td>1884.000000</td>\n",
       "      <td>1884.099976</td>\n",
       "      <td>1884.099976</td>\n",
       "      <td>245</td>\n",
       "    </tr>\n",
       "    <tr>\n",
       "      <th>2672</th>\n",
       "      <td>2023-08-18</td>\n",
       "      <td>1891.800049</td>\n",
       "      <td>1891.800049</td>\n",
       "      <td>1886.099976</td>\n",
       "      <td>1886.099976</td>\n",
       "      <td>1886.099976</td>\n",
       "      <td>19</td>\n",
       "    </tr>\n",
       "  </tbody>\n",
       "</table>\n",
       "<p>2673 rows × 7 columns</p>\n",
       "</div>"
      ],
      "text/plain": [
       "            Date         Open         High          Low        Close  \\\n",
       "0     2013-01-02  1672.800049  1693.800049  1670.000000  1687.900024   \n",
       "1     2013-01-03  1686.099976  1686.800049  1662.000000  1673.699951   \n",
       "2     2013-01-04  1647.000000  1658.300049  1625.699951  1648.099976   \n",
       "3     2013-01-07  1656.500000  1659.900024  1643.800049  1645.500000   \n",
       "4     2013-01-08  1647.699951  1661.500000  1647.699951  1661.500000   \n",
       "...          ...          ...          ...          ...          ...   \n",
       "2668  2023-08-14  1909.300049  1912.599976  1903.300049  1910.599976   \n",
       "2669  2023-08-15  1906.000000  1907.699951  1895.000000  1902.500000   \n",
       "2670  2023-08-16  1904.500000  1904.500000  1890.300049  1896.099976   \n",
       "2671  2023-08-17  1893.699951  1902.400024  1884.000000  1884.099976   \n",
       "2672  2023-08-18  1891.800049  1891.800049  1886.099976  1886.099976   \n",
       "\n",
       "        Adj Close  Volume  \n",
       "0     1687.900024      35  \n",
       "1     1673.699951     140  \n",
       "2     1648.099976     199  \n",
       "3     1645.500000      49  \n",
       "4     1661.500000      17  \n",
       "...           ...     ...  \n",
       "2668  1910.599976      46  \n",
       "2669  1902.500000      73  \n",
       "2670  1896.099976      22  \n",
       "2671  1884.099976     245  \n",
       "2672  1886.099976      19  \n",
       "\n",
       "[2673 rows x 7 columns]"
      ]
     },
     "execution_count": 3,
     "metadata": {},
     "output_type": "execute_result"
    }
   ],
   "source": [
    "gold"
   ]
  },
  {
   "cell_type": "code",
   "execution_count": 5,
   "id": "2f686ddd",
   "metadata": {},
   "outputs": [],
   "source": [
    "gold_price=gold[[\"Date\",\"Close\"]]"
   ]
  },
  {
   "cell_type": "code",
   "execution_count": 6,
   "id": "b191f85b",
   "metadata": {
    "scrolled": true
   },
   "outputs": [
    {
     "data": {
      "text/html": [
       "<div>\n",
       "<style scoped>\n",
       "    .dataframe tbody tr th:only-of-type {\n",
       "        vertical-align: middle;\n",
       "    }\n",
       "\n",
       "    .dataframe tbody tr th {\n",
       "        vertical-align: top;\n",
       "    }\n",
       "\n",
       "    .dataframe thead th {\n",
       "        text-align: right;\n",
       "    }\n",
       "</style>\n",
       "<table border=\"1\" class=\"dataframe\">\n",
       "  <thead>\n",
       "    <tr style=\"text-align: right;\">\n",
       "      <th></th>\n",
       "      <th>Date</th>\n",
       "      <th>Close</th>\n",
       "    </tr>\n",
       "  </thead>\n",
       "  <tbody>\n",
       "    <tr>\n",
       "      <th>0</th>\n",
       "      <td>2013-01-02</td>\n",
       "      <td>1687.900024</td>\n",
       "    </tr>\n",
       "    <tr>\n",
       "      <th>1</th>\n",
       "      <td>2013-01-03</td>\n",
       "      <td>1673.699951</td>\n",
       "    </tr>\n",
       "    <tr>\n",
       "      <th>2</th>\n",
       "      <td>2013-01-04</td>\n",
       "      <td>1648.099976</td>\n",
       "    </tr>\n",
       "    <tr>\n",
       "      <th>3</th>\n",
       "      <td>2013-01-07</td>\n",
       "      <td>1645.500000</td>\n",
       "    </tr>\n",
       "    <tr>\n",
       "      <th>4</th>\n",
       "      <td>2013-01-08</td>\n",
       "      <td>1661.500000</td>\n",
       "    </tr>\n",
       "    <tr>\n",
       "      <th>...</th>\n",
       "      <td>...</td>\n",
       "      <td>...</td>\n",
       "    </tr>\n",
       "    <tr>\n",
       "      <th>2668</th>\n",
       "      <td>2023-08-14</td>\n",
       "      <td>1910.599976</td>\n",
       "    </tr>\n",
       "    <tr>\n",
       "      <th>2669</th>\n",
       "      <td>2023-08-15</td>\n",
       "      <td>1902.500000</td>\n",
       "    </tr>\n",
       "    <tr>\n",
       "      <th>2670</th>\n",
       "      <td>2023-08-16</td>\n",
       "      <td>1896.099976</td>\n",
       "    </tr>\n",
       "    <tr>\n",
       "      <th>2671</th>\n",
       "      <td>2023-08-17</td>\n",
       "      <td>1884.099976</td>\n",
       "    </tr>\n",
       "    <tr>\n",
       "      <th>2672</th>\n",
       "      <td>2023-08-18</td>\n",
       "      <td>1886.099976</td>\n",
       "    </tr>\n",
       "  </tbody>\n",
       "</table>\n",
       "<p>2673 rows × 2 columns</p>\n",
       "</div>"
      ],
      "text/plain": [
       "            Date        Close\n",
       "0     2013-01-02  1687.900024\n",
       "1     2013-01-03  1673.699951\n",
       "2     2013-01-04  1648.099976\n",
       "3     2013-01-07  1645.500000\n",
       "4     2013-01-08  1661.500000\n",
       "...          ...          ...\n",
       "2668  2023-08-14  1910.599976\n",
       "2669  2023-08-15  1902.500000\n",
       "2670  2023-08-16  1896.099976\n",
       "2671  2023-08-17  1884.099976\n",
       "2672  2023-08-18  1886.099976\n",
       "\n",
       "[2673 rows x 2 columns]"
      ]
     },
     "execution_count": 6,
     "metadata": {},
     "output_type": "execute_result"
    }
   ],
   "source": [
    "gold_price"
   ]
  },
  {
   "cell_type": "code",
   "execution_count": 25,
   "id": "80c4e62e",
   "metadata": {},
   "outputs": [
    {
     "data": {
      "image/png": "[encoded data removed]",
      "text/plain": [
       "<Figure size 1000x600 with 1 Axes>"
      ]
     },
     "metadata": {},
     "output_type": "display_data"
    }
   ],
   "source": [
    "plt.figure(figsize=(10, 6))\n",
    "plt.plot(gold_price['Date'],gold_price['Close'])\n",
    "plt.show()"
   ]
  },
  {
   "cell_type": "code",
   "execution_count": null,
   "id": "75ac0863",
   "metadata": {},
   "outputs": [],
   "source": []
  },
  {
   "cell_type": "code",
   "execution_count": null,
   "id": "bd5dd635",
   "metadata": {},
   "outputs": [],
   "source": []
  },
  {
   "cell_type": "code",
   "execution_count": 7,
   "id": "ed680278",
   "metadata": {},
   "outputs": [],
   "source": [
    "gold_price[\"Date\"]=pd.to_datetime(gold_price[\"Date\"])"
   ]
  },
  {
   "cell_type": "code",
   "execution_count": 9,
   "id": "655178ed",
   "metadata": {},
   "outputs": [],
   "source": [
    "from statsmodels.tsa.holtwinters import ExponentialSmoothing"
   ]
  },
  {
   "cell_type": "code",
   "execution_count": 13,
   "id": "1c50ff4a",
   "metadata": {},
   "outputs": [],
   "source": [
    "Exp_model=ExponentialSmoothing(gold_price[\"Close\"],trend=\"add\",seasonal='mul', seasonal_periods=365)\n",
    "fitted_model = Exp_model.fit()"
   ]
  },
  {
   "cell_type": "code",
   "execution_count": 14,
   "id": "7b6387ab",
   "metadata": {},
   "outputs": [
    {
     "ename": "TypeError",
     "evalue": "unsupported operand type(s) for +: 'int' and 'Timedelta'",
     "output_type": "error",
     "traceback": [
      "\u001b[1;31m---------------------------------------------------------------------------\u001b[0m",
      "\u001b[1;31mTypeError\u001b[0m                                 Traceback (most recent call last)",
      "Cell \u001b[1;32mIn[14], line 1\u001b[0m\n\u001b[1;32m----> 1\u001b[0m future_dates \u001b[38;5;241m=\u001b[39m pd\u001b[38;5;241m.\u001b[39mdate_range(start\u001b[38;5;241m=\u001b[39m\u001b[43mgold_price\u001b[49m\u001b[38;5;241;43m.\u001b[39;49m\u001b[43mindex\u001b[49m\u001b[43m[\u001b[49m\u001b[38;5;241;43m-\u001b[39;49m\u001b[38;5;241;43m1\u001b[39;49m\u001b[43m]\u001b[49m\u001b[43m \u001b[49m\u001b[38;5;241;43m+\u001b[39;49m\u001b[43m \u001b[49m\u001b[43mpd\u001b[49m\u001b[38;5;241;43m.\u001b[39;49m\u001b[43mTimedelta\u001b[49m\u001b[43m(\u001b[49m\u001b[43mdays\u001b[49m\u001b[38;5;241;43m=\u001b[39;49m\u001b[38;5;241;43m1\u001b[39;49m\u001b[43m)\u001b[49m, periods\u001b[38;5;241m=\u001b[39m\u001b[38;5;241m30\u001b[39m, freq\u001b[38;5;241m=\u001b[39m\u001b[38;5;124m\"\u001b[39m\u001b[38;5;124mD\u001b[39m\u001b[38;5;124m\"\u001b[39m)\n\u001b[0;32m      2\u001b[0m future_predictions \u001b[38;5;241m=\u001b[39m fitted_model\u001b[38;5;241m.\u001b[39mforecast(\u001b[38;5;28mlen\u001b[39m(future_dates))\n",
      "\u001b[1;31mTypeError\u001b[0m: unsupported operand type(s) for +: 'int' and 'Timedelta'"
     ]
    }
   ],
   "source": [
    "future_dates = pd.date_range(start=gold_price.index[-1] + pd.Timedelta(days=1), periods=30, freq=\"D\")\n",
    "future_predictions = fitted_model.forecast(len(future_dates))\n"
   ]
  },
  {
   "cell_type": "code",
   "execution_count": 15,
   "id": "919b8f0a",
   "metadata": {},
   "outputs": [
    {
     "name": "stdout",
     "output_type": "stream",
     "text": [
      "The last date is not a valid timestamp or datetime object.\n"
     ]
    }
   ],
   "source": [
    "import pandas as pd\n",
    "\n",
    "# Make sure gold_price.index[-1] is a timestamp or datetime object\n",
    "last_date = gold_price.index[-1]\n",
    "if isinstance(last_date, pd.Timestamp):\n",
    "    future_dates = pd.date_range(start=last_date + pd.Timedelta(days=1), periods=30, freq=\"D\")\n",
    "    future_predictions = fitted_model.forecast(len(future_dates))\n",
    "else:\n",
    "    print(\"The last date is not a valid timestamp or datetime object.\")\n"
   ]
  },
  {
   "cell_type": "code",
   "execution_count": 16,
   "id": "4e4202ba",
   "metadata": {},
   "outputs": [
    {
     "data": {
      "text/plain": [
       "Date     datetime64[ns]\n",
       "Close           float64\n",
       "dtype: object"
      ]
     },
     "execution_count": 16,
     "metadata": {},
     "output_type": "execute_result"
    }
   ],
   "source": [
    "gold_price.dtypes"
   ]
  },
  {
   "cell_type": "code",
   "execution_count": 17,
   "id": "a4c26a46",
   "metadata": {},
   "outputs": [
    {
     "name": "stdout",
     "output_type": "stream",
     "text": [
      "datetime64[ns]\n"
     ]
    }
   ],
   "source": [
    "print(gold_price['Date'].dtype)"
   ]
  },
  {
   "cell_type": "code",
   "execution_count": 19,
   "id": "34c33820",
   "metadata": {},
   "outputs": [],
   "source": [
    "import pandas as pd\n",
    "\n",
    "#\n",
    "last_date = gold_price['Date'].iloc[-1]  # Get the last date in the \"Date\" column\n",
    "\n",
    "\n",
    "if isinstance(last_date, pd.Timestamp):\n",
    "    future_dates = pd.date_range(start=last_date + pd.Timedelta(days=1), periods=30, freq=\"D\")\n",
    "    \n",
    "else:\n",
    "    print(\"The last date is not a valid timestamp or datetime object.\")\n"
   ]
  },
  {
   "cell_type": "code",
   "execution_count": 20,
   "id": "0f7bc146",
   "metadata": {},
   "outputs": [
    {
     "data": {
      "text/plain": [
       "DatetimeIndex(['2023-08-19', '2023-08-20', '2023-08-21', '2023-08-22',\n",
       "               '2023-08-23', '2023-08-24', '2023-08-25', '2023-08-26',\n",
       "               '2023-08-27', '2023-08-28', '2023-08-29', '2023-08-30',\n",
       "               '2023-08-31', '2023-09-01', '2023-09-02', '2023-09-03',\n",
       "               '2023-09-04', '2023-09-05', '2023-09-06', '2023-09-07',\n",
       "               '2023-09-08', '2023-09-09', '2023-09-10', '2023-09-11',\n",
       "               '2023-09-12', '2023-09-13', '2023-09-14', '2023-09-15',\n",
       "               '2023-09-16', '2023-09-17'],\n",
       "              dtype='datetime64[ns]', freq='D')"
      ]
     },
     "execution_count": 20,
     "metadata": {},
     "output_type": "execute_result"
    }
   ],
   "source": [
    "future_dates"
   ]
  },
  {
   "cell_type": "code",
   "execution_count": 21,
   "id": "ab962c2b",
   "metadata": {},
   "outputs": [],
   "source": [
    "future_close=fitted_model.forecast(len(future_dates))"
   ]
  },
  {
   "cell_type": "code",
   "execution_count": 23,
   "id": "bdf1c474",
   "metadata": {},
   "outputs": [],
   "source": [
    "forecast_df = pd.DataFrame({\n",
    "    'Date': future_dates,\n",
    "    'Predicted_Price': future_close\n",
    "})"
   ]
  },
  {
   "cell_type": "code",
   "execution_count": 24,
   "id": "896ecd40",
   "metadata": {},
   "outputs": [
    {
     "data": {
      "text/html": [
       "<div>\n",
       "<style scoped>\n",
       "    .dataframe tbody tr th:only-of-type {\n",
       "        vertical-align: middle;\n",
       "    }\n",
       "\n",
       "    .dataframe tbody tr th {\n",
       "        vertical-align: top;\n",
       "    }\n",
       "\n",
       "    .dataframe thead th {\n",
       "        text-align: right;\n",
       "    }\n",
       "</style>\n",
       "<table border=\"1\" class=\"dataframe\">\n",
       "  <thead>\n",
       "    <tr style=\"text-align: right;\">\n",
       "      <th></th>\n",
       "      <th>Date</th>\n",
       "      <th>Predicted_Price</th>\n",
       "    </tr>\n",
       "  </thead>\n",
       "  <tbody>\n",
       "    <tr>\n",
       "      <th>2673</th>\n",
       "      <td>2023-08-19</td>\n",
       "      <td>1889.611076</td>\n",
       "    </tr>\n",
       "    <tr>\n",
       "      <th>2674</th>\n",
       "      <td>2023-08-20</td>\n",
       "      <td>1875.670944</td>\n",
       "    </tr>\n",
       "    <tr>\n",
       "      <th>2675</th>\n",
       "      <td>2023-08-21</td>\n",
       "      <td>1877.329336</td>\n",
       "    </tr>\n",
       "    <tr>\n",
       "      <th>2676</th>\n",
       "      <td>2023-08-22</td>\n",
       "      <td>1866.795775</td>\n",
       "    </tr>\n",
       "    <tr>\n",
       "      <th>2677</th>\n",
       "      <td>2023-08-23</td>\n",
       "      <td>1859.523788</td>\n",
       "    </tr>\n",
       "    <tr>\n",
       "      <th>2678</th>\n",
       "      <td>2023-08-24</td>\n",
       "      <td>1860.911545</td>\n",
       "    </tr>\n",
       "    <tr>\n",
       "      <th>2679</th>\n",
       "      <td>2023-08-25</td>\n",
       "      <td>1858.325148</td>\n",
       "    </tr>\n",
       "    <tr>\n",
       "      <th>2680</th>\n",
       "      <td>2023-08-26</td>\n",
       "      <td>1859.176711</td>\n",
       "    </tr>\n",
       "    <tr>\n",
       "      <th>2681</th>\n",
       "      <td>2023-08-27</td>\n",
       "      <td>1856.248912</td>\n",
       "    </tr>\n",
       "    <tr>\n",
       "      <th>2682</th>\n",
       "      <td>2023-08-28</td>\n",
       "      <td>1843.365618</td>\n",
       "    </tr>\n",
       "    <tr>\n",
       "      <th>2683</th>\n",
       "      <td>2023-08-29</td>\n",
       "      <td>1841.493746</td>\n",
       "    </tr>\n",
       "    <tr>\n",
       "      <th>2684</th>\n",
       "      <td>2023-08-30</td>\n",
       "      <td>1846.966464</td>\n",
       "    </tr>\n",
       "    <tr>\n",
       "      <th>2685</th>\n",
       "      <td>2023-08-31</td>\n",
       "      <td>1846.858905</td>\n",
       "    </tr>\n",
       "    <tr>\n",
       "      <th>2686</th>\n",
       "      <td>2023-09-01</td>\n",
       "      <td>1848.412331</td>\n",
       "    </tr>\n",
       "    <tr>\n",
       "      <th>2687</th>\n",
       "      <td>2023-09-02</td>\n",
       "      <td>1845.217883</td>\n",
       "    </tr>\n",
       "    <tr>\n",
       "      <th>2688</th>\n",
       "      <td>2023-09-03</td>\n",
       "      <td>1842.402869</td>\n",
       "    </tr>\n",
       "    <tr>\n",
       "      <th>2689</th>\n",
       "      <td>2023-09-04</td>\n",
       "      <td>1842.976103</td>\n",
       "    </tr>\n",
       "    <tr>\n",
       "      <th>2690</th>\n",
       "      <td>2023-09-05</td>\n",
       "      <td>1847.915039</td>\n",
       "    </tr>\n",
       "    <tr>\n",
       "      <th>2691</th>\n",
       "      <td>2023-09-06</td>\n",
       "      <td>1843.030689</td>\n",
       "    </tr>\n",
       "    <tr>\n",
       "      <th>2692</th>\n",
       "      <td>2023-09-07</td>\n",
       "      <td>1852.056196</td>\n",
       "    </tr>\n",
       "    <tr>\n",
       "      <th>2693</th>\n",
       "      <td>2023-09-08</td>\n",
       "      <td>1851.200980</td>\n",
       "    </tr>\n",
       "    <tr>\n",
       "      <th>2694</th>\n",
       "      <td>2023-09-09</td>\n",
       "      <td>1849.483753</td>\n",
       "    </tr>\n",
       "    <tr>\n",
       "      <th>2695</th>\n",
       "      <td>2023-09-10</td>\n",
       "      <td>1848.225794</td>\n",
       "    </tr>\n",
       "    <tr>\n",
       "      <th>2696</th>\n",
       "      <td>2023-09-11</td>\n",
       "      <td>1848.436022</td>\n",
       "    </tr>\n",
       "    <tr>\n",
       "      <th>2697</th>\n",
       "      <td>2023-09-12</td>\n",
       "      <td>1839.612991</td>\n",
       "    </tr>\n",
       "    <tr>\n",
       "      <th>2698</th>\n",
       "      <td>2023-09-13</td>\n",
       "      <td>1836.450654</td>\n",
       "    </tr>\n",
       "    <tr>\n",
       "      <th>2699</th>\n",
       "      <td>2023-09-14</td>\n",
       "      <td>1836.956269</td>\n",
       "    </tr>\n",
       "    <tr>\n",
       "      <th>2700</th>\n",
       "      <td>2023-09-15</td>\n",
       "      <td>1838.440610</td>\n",
       "    </tr>\n",
       "    <tr>\n",
       "      <th>2701</th>\n",
       "      <td>2023-09-16</td>\n",
       "      <td>1847.689955</td>\n",
       "    </tr>\n",
       "    <tr>\n",
       "      <th>2702</th>\n",
       "      <td>2023-09-17</td>\n",
       "      <td>1839.569403</td>\n",
       "    </tr>\n",
       "  </tbody>\n",
       "</table>\n",
       "</div>"
      ],
      "text/plain": [
       "           Date  Predicted_Price\n",
       "2673 2023-08-19      1889.611076\n",
       "2674 2023-08-20      1875.670944\n",
       "2675 2023-08-21      1877.329336\n",
       "2676 2023-08-22      1866.795775\n",
       "2677 2023-08-23      1859.523788\n",
       "2678 2023-08-24      1860.911545\n",
       "2679 2023-08-25      1858.325148\n",
       "2680 2023-08-26      1859.176711\n",
       "2681 2023-08-27      1856.248912\n",
       "2682 2023-08-28      1843.365618\n",
       "2683 2023-08-29      1841.493746\n",
       "2684 2023-08-30      1846.966464\n",
       "2685 2023-08-31      1846.858905\n",
       "2686 2023-09-01      1848.412331\n",
       "2687 2023-09-02      1845.217883\n",
       "2688 2023-09-03      1842.402869\n",
       "2689 2023-09-04      1842.976103\n",
       "2690 2023-09-05      1847.915039\n",
       "2691 2023-09-06      1843.030689\n",
       "2692 2023-09-07      1852.056196\n",
       "2693 2023-09-08      1851.200980\n",
       "2694 2023-09-09      1849.483753\n",
       "2695 2023-09-10      1848.225794\n",
       "2696 2023-09-11      1848.436022\n",
       "2697 2023-09-12      1839.612991\n",
       "2698 2023-09-13      1836.450654\n",
       "2699 2023-09-14      1836.956269\n",
       "2700 2023-09-15      1838.440610\n",
       "2701 2023-09-16      1847.689955\n",
       "2702 2023-09-17      1839.569403"
      ]
     },
     "execution_count": 24,
     "metadata": {},
     "output_type": "execute_result"
    }
   ],
   "source": [
    "forecast_df"
   ]
  },
  {
   "cell_type": "code",
   "execution_count": 28,
   "id": "fe9134bb",
   "metadata": {},
   "outputs": [
    {
     "data": {
      "text/plain": [
       "[<matplotlib.lines.Line2D at 0x1c38535f450>]"
      ]
     },
     "execution_count": 28,
     "metadata": {},
     "output_type": "execute_result"
    },
    {
     "data": {
      "image/png": "[encoded data removed]",
      "text/plain": [
       "<Figure size 1000x600 with 1 Axes>"
      ]
     },
     "metadata": {},
     "output_type": "display_data"
    }
   ],
   "source": [
    "plt.figure(figsize=(10, 6))\n",
    "plt.plot(gold_price.index, gold_price[\"Close\"], label=\"Past_Price\", color=\"blue\")\n",
    "plt.plot(forecast_df.index, forecast_df[\"Predicted_Price\"], label=\"Forecasted Prices\", color=\"orange\", linestyle=\"--\")\n"
   ]
  },
  {
   "cell_type": "code",
   "execution_count": null,
   "id": "1c3b6f67",
   "metadata": {},
   "outputs": [],
   "source": []
  }
 ],
 "metadata": {
  "kernelspec": {
   "display_name": "Python 3 (ipykernel)",
   "language": "python",
   "name": "python3"
  },
  "language_info": {
   "codemirror_mode": {
    "name": "ipython",
    "version": 3
   },
   "file_extension": ".py",
   "mimetype": "text/x-python",
   "name": "python",
   "nbconvert_exporter": "python",
   "pygments_lexer": "ipython3",
   "version": "3.11.2"
  }
 },
 "nbformat": 4,
 "nbformat_minor": 5
}
