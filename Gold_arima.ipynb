{
 "cells": [
  {
   "cell_type": "code",
   "execution_count": 1,
   "id": "6f45f2c2",
   "metadata": {},
   "outputs": [],
   "source": [
    "import pandas as pd\n",
    "import matplotlib.pyplot as plt\n",
    "import seaborn as sns\n",
    "import numpy as np\n",
    "\n",
    "import warnings\n",
    "warnings.filterwarnings('ignore')"
   ]
  },
  {
   "cell_type": "code",
   "execution_count": 2,
   "id": "b7563106",
   "metadata": {},
   "outputs": [],
   "source": [
    "gold = pd.read_csv('Gold_Price.csv')"
   ]
  },
  {
   "cell_type": "code",
   "execution_count": 3,
   "id": "f4531e97",
   "metadata": {},
   "outputs": [
    {
     "data": {
      "text/html": [
       "<div>\n",
       "<style scoped>\n",
       "    .dataframe tbody tr th:only-of-type {\n",
       "        vertical-align: middle;\n",
       "    }\n",
       "\n",
       "    .dataframe tbody tr th {\n",
       "        vertical-align: top;\n",
       "    }\n",
       "\n",
       "    .dataframe thead th {\n",
       "        text-align: right;\n",
       "    }\n",
       "</style>\n",
       "<table border=\"1\" class=\"dataframe\">\n",
       "  <thead>\n",
       "    <tr style=\"text-align: right;\">\n",
       "      <th></th>\n",
       "      <th>Date</th>\n",
       "      <th>Open</th>\n",
       "      <th>High</th>\n",
       "      <th>Low</th>\n",
       "      <th>Close</th>\n",
       "      <th>Adj Close</th>\n",
       "      <th>Volume</th>\n",
       "    </tr>\n",
       "  </thead>\n",
       "  <tbody>\n",
       "    <tr>\n",
       "      <th>0</th>\n",
       "      <td>2013-01-02</td>\n",
       "      <td>1672.800049</td>\n",
       "      <td>1693.800049</td>\n",
       "      <td>1670.000000</td>\n",
       "      <td>1687.900024</td>\n",
       "      <td>1687.900024</td>\n",
       "      <td>35</td>\n",
       "    </tr>\n",
       "    <tr>\n",
       "      <th>1</th>\n",
       "      <td>2013-01-03</td>\n",
       "      <td>1686.099976</td>\n",
       "      <td>1686.800049</td>\n",
       "      <td>1662.000000</td>\n",
       "      <td>1673.699951</td>\n",
       "      <td>1673.699951</td>\n",
       "      <td>140</td>\n",
       "    </tr>\n",
       "    <tr>\n",
       "      <th>2</th>\n",
       "      <td>2013-01-04</td>\n",
       "      <td>1647.000000</td>\n",
       "      <td>1658.300049</td>\n",
       "      <td>1625.699951</td>\n",
       "      <td>1648.099976</td>\n",
       "      <td>1648.099976</td>\n",
       "      <td>199</td>\n",
       "    </tr>\n",
       "    <tr>\n",
       "      <th>3</th>\n",
       "      <td>2013-01-07</td>\n",
       "      <td>1656.500000</td>\n",
       "      <td>1659.900024</td>\n",
       "      <td>1643.800049</td>\n",
       "      <td>1645.500000</td>\n",
       "      <td>1645.500000</td>\n",
       "      <td>49</td>\n",
       "    </tr>\n",
       "    <tr>\n",
       "      <th>4</th>\n",
       "      <td>2013-01-08</td>\n",
       "      <td>1647.699951</td>\n",
       "      <td>1661.500000</td>\n",
       "      <td>1647.699951</td>\n",
       "      <td>1661.500000</td>\n",
       "      <td>1661.500000</td>\n",
       "      <td>17</td>\n",
       "    </tr>\n",
       "    <tr>\n",
       "      <th>...</th>\n",
       "      <td>...</td>\n",
       "      <td>...</td>\n",
       "      <td>...</td>\n",
       "      <td>...</td>\n",
       "      <td>...</td>\n",
       "      <td>...</td>\n",
       "      <td>...</td>\n",
       "    </tr>\n",
       "    <tr>\n",
       "      <th>2668</th>\n",
       "      <td>2023-08-14</td>\n",
       "      <td>1909.300049</td>\n",
       "      <td>1912.599976</td>\n",
       "      <td>1903.300049</td>\n",
       "      <td>1910.599976</td>\n",
       "      <td>1910.599976</td>\n",
       "      <td>46</td>\n",
       "    </tr>\n",
       "    <tr>\n",
       "      <th>2669</th>\n",
       "      <td>2023-08-15</td>\n",
       "      <td>1906.000000</td>\n",
       "      <td>1907.699951</td>\n",
       "      <td>1895.000000</td>\n",
       "      <td>1902.500000</td>\n",
       "      <td>1902.500000</td>\n",
       "      <td>73</td>\n",
       "    </tr>\n",
       "    <tr>\n",
       "      <th>2670</th>\n",
       "      <td>2023-08-16</td>\n",
       "      <td>1904.500000</td>\n",
       "      <td>1904.500000</td>\n",
       "      <td>1890.300049</td>\n",
       "      <td>1896.099976</td>\n",
       "      <td>1896.099976</td>\n",
       "      <td>22</td>\n",
       "    </tr>\n",
       "    <tr>\n",
       "      <th>2671</th>\n",
       "      <td>2023-08-17</td>\n",
       "      <td>1893.699951</td>\n",
       "      <td>1902.400024</td>\n",
       "      <td>1884.000000</td>\n",
       "      <td>1884.099976</td>\n",
       "      <td>1884.099976</td>\n",
       "      <td>245</td>\n",
       "    </tr>\n",
       "    <tr>\n",
       "      <th>2672</th>\n",
       "      <td>2023-08-18</td>\n",
       "      <td>1891.800049</td>\n",
       "      <td>1891.800049</td>\n",
       "      <td>1886.099976</td>\n",
       "      <td>1886.099976</td>\n",
       "      <td>1886.099976</td>\n",
       "      <td>19</td>\n",
       "    </tr>\n",
       "  </tbody>\n",
       "</table>\n",
       "<p>2673 rows × 7 columns</p>\n",
       "</div>"
      ],
      "text/plain": [
       "            Date         Open         High          Low        Close  \\\n",
       "0     2013-01-02  1672.800049  1693.800049  1670.000000  1687.900024   \n",
       "1     2013-01-03  1686.099976  1686.800049  1662.000000  1673.699951   \n",
       "2     2013-01-04  1647.000000  1658.300049  1625.699951  1648.099976   \n",
       "3     2013-01-07  1656.500000  1659.900024  1643.800049  1645.500000   \n",
       "4     2013-01-08  1647.699951  1661.500000  1647.699951  1661.500000   \n",
       "...          ...          ...          ...          ...          ...   \n",
       "2668  2023-08-14  1909.300049  1912.599976  1903.300049  1910.599976   \n",
       "2669  2023-08-15  1906.000000  1907.699951  1895.000000  1902.500000   \n",
       "2670  2023-08-16  1904.500000  1904.500000  1890.300049  1896.099976   \n",
       "2671  2023-08-17  1893.699951  1902.400024  1884.000000  1884.099976   \n",
       "2672  2023-08-18  1891.800049  1891.800049  1886.099976  1886.099976   \n",
       "\n",
       "        Adj Close  Volume  \n",
       "0     1687.900024      35  \n",
       "1     1673.699951     140  \n",
       "2     1648.099976     199  \n",
       "3     1645.500000      49  \n",
       "4     1661.500000      17  \n",
       "...           ...     ...  \n",
       "2668  1910.599976      46  \n",
       "2669  1902.500000      73  \n",
       "2670  1896.099976      22  \n",
       "2671  1884.099976     245  \n",
       "2672  1886.099976      19  \n",
       "\n",
       "[2673 rows x 7 columns]"
      ]
     },
     "execution_count": 3,
     "metadata": {},
     "output_type": "execute_result"
    }
   ],
   "source": [
    "gold"
   ]
  },
  {
   "cell_type": "code",
   "execution_count": 5,
   "id": "a38b521d",
   "metadata": {},
   "outputs": [],
   "source": [
    "gold_price = gold[['Date','Close']]"
   ]
  },
  {
   "cell_type": "code",
   "execution_count": 5,
   "id": "845f34f1",
   "metadata": {},
   "outputs": [
    {
     "data": {
      "text/html": [
       "<div>\n",
       "<style scoped>\n",
       "    .dataframe tbody tr th:only-of-type {\n",
       "        vertical-align: middle;\n",
       "    }\n",
       "\n",
       "    .dataframe tbody tr th {\n",
       "        vertical-align: top;\n",
       "    }\n",
       "\n",
       "    .dataframe thead th {\n",
       "        text-align: right;\n",
       "    }\n",
       "</style>\n",
       "<table border=\"1\" class=\"dataframe\">\n",
       "  <thead>\n",
       "    <tr style=\"text-align: right;\">\n",
       "      <th></th>\n",
       "      <th>Date</th>\n",
       "      <th>Close</th>\n",
       "    </tr>\n",
       "  </thead>\n",
       "  <tbody>\n",
       "    <tr>\n",
       "      <th>0</th>\n",
       "      <td>2013-01-02</td>\n",
       "      <td>1687.900024</td>\n",
       "    </tr>\n",
       "    <tr>\n",
       "      <th>1</th>\n",
       "      <td>2013-01-03</td>\n",
       "      <td>1673.699951</td>\n",
       "    </tr>\n",
       "    <tr>\n",
       "      <th>2</th>\n",
       "      <td>2013-01-04</td>\n",
       "      <td>1648.099976</td>\n",
       "    </tr>\n",
       "    <tr>\n",
       "      <th>3</th>\n",
       "      <td>2013-01-07</td>\n",
       "      <td>1645.500000</td>\n",
       "    </tr>\n",
       "    <tr>\n",
       "      <th>4</th>\n",
       "      <td>2013-01-08</td>\n",
       "      <td>1661.500000</td>\n",
       "    </tr>\n",
       "    <tr>\n",
       "      <th>...</th>\n",
       "      <td>...</td>\n",
       "      <td>...</td>\n",
       "    </tr>\n",
       "    <tr>\n",
       "      <th>2668</th>\n",
       "      <td>2023-08-14</td>\n",
       "      <td>1910.599976</td>\n",
       "    </tr>\n",
       "    <tr>\n",
       "      <th>2669</th>\n",
       "      <td>2023-08-15</td>\n",
       "      <td>1902.500000</td>\n",
       "    </tr>\n",
       "    <tr>\n",
       "      <th>2670</th>\n",
       "      <td>2023-08-16</td>\n",
       "      <td>1896.099976</td>\n",
       "    </tr>\n",
       "    <tr>\n",
       "      <th>2671</th>\n",
       "      <td>2023-08-17</td>\n",
       "      <td>1884.099976</td>\n",
       "    </tr>\n",
       "    <tr>\n",
       "      <th>2672</th>\n",
       "      <td>2023-08-18</td>\n",
       "      <td>1886.099976</td>\n",
       "    </tr>\n",
       "  </tbody>\n",
       "</table>\n",
       "<p>2673 rows × 2 columns</p>\n",
       "</div>"
      ],
      "text/plain": [
       "            Date        Close\n",
       "0     2013-01-02  1687.900024\n",
       "1     2013-01-03  1673.699951\n",
       "2     2013-01-04  1648.099976\n",
       "3     2013-01-07  1645.500000\n",
       "4     2013-01-08  1661.500000\n",
       "...          ...          ...\n",
       "2668  2023-08-14  1910.599976\n",
       "2669  2023-08-15  1902.500000\n",
       "2670  2023-08-16  1896.099976\n",
       "2671  2023-08-17  1884.099976\n",
       "2672  2023-08-18  1886.099976\n",
       "\n",
       "[2673 rows x 2 columns]"
      ]
     },
     "execution_count": 5,
     "metadata": {},
     "output_type": "execute_result"
    }
   ],
   "source": [
    "gold_price"
   ]
  },
  {
   "cell_type": "code",
   "execution_count": 6,
   "id": "105ed606",
   "metadata": {},
   "outputs": [],
   "source": [
    "gold_price['Date'] = pd.to_datetime(gold_price['Date'])"
   ]
  },
  {
   "cell_type": "code",
   "execution_count": 7,
   "id": "3257a860",
   "metadata": {},
   "outputs": [
    {
     "data": {
      "text/plain": [
       "Date     datetime64[ns]\n",
       "Close           float64\n",
       "dtype: object"
      ]
     },
     "execution_count": 7,
     "metadata": {},
     "output_type": "execute_result"
    }
   ],
   "source": [
    "gold_price.dtypes"
   ]
  },
  {
   "cell_type": "code",
   "execution_count": 8,
   "id": "71e206b0",
   "metadata": {},
   "outputs": [
    {
     "data": {
      "text/plain": [
       "<Axes: >"
      ]
     },
     "execution_count": 8,
     "metadata": {},
     "output_type": "execute_result"
    },
    {
     "data": {
      "image/png": "[encoded data removed]",
      "text/plain": [
       "<Figure size 1200x500 with 1 Axes>"
      ]
     },
     "metadata": {},
     "output_type": "display_data"
    }
   ],
   "source": [
    "gold_price['Close'].plot(figsize=(12,5))"
   ]
  },
  {
   "cell_type": "code",
   "execution_count": 14,
   "id": "4ed01a93",
   "metadata": {},
   "outputs": [],
   "source": [
    "import pmdarima as pm"
   ]
  },
  {
   "cell_type": "code",
   "execution_count": 15,
   "id": "d88f9530",
   "metadata": {},
   "outputs": [
    {
     "name": "stdout",
     "output_type": "stream",
     "text": [
      "Performing stepwise search to minimize aic\n",
      " ARIMA(2,1,2)(0,0,0)[0] intercept   : AIC=22016.007, Time=2.77 sec\n",
      " ARIMA(0,1,0)(0,0,0)[0] intercept   : AIC=22015.214, Time=0.08 sec\n",
      " ARIMA(1,1,0)(0,0,0)[0] intercept   : AIC=22013.871, Time=0.16 sec\n",
      " ARIMA(0,1,1)(0,0,0)[0] intercept   : AIC=22013.827, Time=0.38 sec\n",
      " ARIMA(0,1,0)(0,0,0)[0]             : AIC=22013.280, Time=0.06 sec\n",
      " ARIMA(1,1,1)(0,0,0)[0] intercept   : AIC=22015.798, Time=1.28 sec\n",
      "\n",
      "Best model:  ARIMA(0,1,0)(0,0,0)[0]          \n",
      "Total fit time: 4.734 seconds\n",
      "                               SARIMAX Results                                \n",
      "==============================================================================\n",
      "Dep. Variable:                      y   No. Observations:                 2673\n",
      "Model:               SARIMAX(0, 1, 0)   Log Likelihood              -11005.640\n",
      "Date:                Thu, 24 Aug 2023   AIC                          22013.280\n",
      "Time:                        08:33:53   BIC                          22019.171\n",
      "Sample:                             0   HQIC                         22015.412\n",
      "                               - 2673                                         \n",
      "Covariance Type:                  opg                                         \n",
      "==============================================================================\n",
      "                 coef    std err          z      P>|z|      [0.025      0.975]\n",
      "------------------------------------------------------------------------------\n",
      "sigma2       221.3799      2.765     80.075      0.000     215.961     226.799\n",
      "===================================================================================\n",
      "Ljung-Box (L1) (Q):                   3.34   Jarque-Bera (JB):              6599.10\n",
      "Prob(Q):                              0.07   Prob(JB):                         0.00\n",
      "Heteroskedasticity (H):               1.79   Skew:                            -0.58\n",
      "Prob(H) (two-sided):                  0.00   Kurtosis:                        10.61\n",
      "===================================================================================\n",
      "\n",
      "Warnings:\n",
      "[1] Covariance matrix calculated using the outer product of gradients (complex-step).\n"
     ]
    }
   ],
   "source": [
    "best_model = pm.auto_arima(gold_price['Close'],trace=True,suppress_warnings=True)\n",
    "print(best_model.summary())"
   ]
  },
  {
   "cell_type": "code",
   "execution_count": 16,
   "id": "b7e35826",
   "metadata": {},
   "outputs": [],
   "source": [
    "gold_train=gold_price.head(1870)"
   ]
  },
  {
   "cell_type": "code",
   "execution_count": 17,
   "id": "3e06a880",
   "metadata": {},
   "outputs": [],
   "source": [
    "gold_test = gold_price.tail(803)"
   ]
  },
  {
   "cell_type": "code",
   "execution_count": 19,
   "id": "39dcb0e4",
   "metadata": {},
   "outputs": [],
   "source": [
    "from statsmodels.tsa.arima.model import ARIMA"
   ]
  },
  {
   "cell_type": "code",
   "execution_count": 23,
   "id": "8f28f4f2",
   "metadata": {},
   "outputs": [
    {
     "data": {
      "text/html": [
       "<table class=\"simpletable\">\n",
       "<caption>SARIMAX Results</caption>\n",
       "<tr>\n",
       "  <th>Dep. Variable:</th>         <td>Close</td>      <th>  No. Observations:  </th>   <td>1870</td>   \n",
       "</tr>\n",
       "<tr>\n",
       "  <th>Model:</th>            <td>ARIMA(0, 1, 0)</td>  <th>  Log Likelihood     </th> <td>-7494.708</td>\n",
       "</tr>\n",
       "<tr>\n",
       "  <th>Date:</th>            <td>Thu, 24 Aug 2023</td> <th>  AIC                </th> <td>14991.416</td>\n",
       "</tr>\n",
       "<tr>\n",
       "  <th>Time:</th>                <td>08:41:44</td>     <th>  BIC                </th> <td>14996.949</td>\n",
       "</tr>\n",
       "<tr>\n",
       "  <th>Sample:</th>                  <td>0</td>        <th>  HQIC               </th> <td>14993.455</td>\n",
       "</tr>\n",
       "<tr>\n",
       "  <th></th>                      <td> - 1870</td>     <th>                     </th>     <td> </td>    \n",
       "</tr>\n",
       "<tr>\n",
       "  <th>Covariance Type:</th>        <td>opg</td>       <th>                     </th>     <td> </td>    \n",
       "</tr>\n",
       "</table>\n",
       "<table class=\"simpletable\">\n",
       "<tr>\n",
       "     <td></td>       <th>coef</th>     <th>std err</th>      <th>z</th>      <th>P>|z|</th>  <th>[0.025</th>    <th>0.975]</th>  \n",
       "</tr>\n",
       "<tr>\n",
       "  <th>sigma2</th> <td>  178.0647</td> <td>    2.197</td> <td>   81.049</td> <td> 0.000</td> <td>  173.759</td> <td>  182.371</td>\n",
       "</tr>\n",
       "</table>\n",
       "<table class=\"simpletable\">\n",
       "<tr>\n",
       "  <th>Ljung-Box (L1) (Q):</th>     <td>0.83</td> <th>  Jarque-Bera (JB):  </th> <td>11404.49</td>\n",
       "</tr>\n",
       "<tr>\n",
       "  <th>Prob(Q):</th>                <td>0.36</td> <th>  Prob(JB):          </th>   <td>0.00</td>  \n",
       "</tr>\n",
       "<tr>\n",
       "  <th>Heteroskedasticity (H):</th> <td>0.82</td> <th>  Skew:              </th>   <td>-0.50</td> \n",
       "</tr>\n",
       "<tr>\n",
       "  <th>Prob(H) (two-sided):</th>    <td>0.02</td> <th>  Kurtosis:          </th>   <td>15.06</td> \n",
       "</tr>\n",
       "</table><br/><br/>Warnings:<br/>[1] Covariance matrix calculated using the outer product of gradients (complex-step)."
      ],
      "text/plain": [
       "<class 'statsmodels.iolib.summary.Summary'>\n",
       "\"\"\"\n",
       "                               SARIMAX Results                                \n",
       "==============================================================================\n",
       "Dep. Variable:                  Close   No. Observations:                 1870\n",
       "Model:                 ARIMA(0, 1, 0)   Log Likelihood               -7494.708\n",
       "Date:                Thu, 24 Aug 2023   AIC                          14991.416\n",
       "Time:                        08:41:44   BIC                          14996.949\n",
       "Sample:                             0   HQIC                         14993.455\n",
       "                               - 1870                                         \n",
       "Covariance Type:                  opg                                         \n",
       "==============================================================================\n",
       "                 coef    std err          z      P>|z|      [0.025      0.975]\n",
       "------------------------------------------------------------------------------\n",
       "sigma2       178.0647      2.197     81.049      0.000     173.759     182.371\n",
       "===================================================================================\n",
       "Ljung-Box (L1) (Q):                   0.83   Jarque-Bera (JB):             11404.49\n",
       "Prob(Q):                              0.36   Prob(JB):                         0.00\n",
       "Heteroskedasticity (H):               0.82   Skew:                            -0.50\n",
       "Prob(H) (two-sided):                  0.02   Kurtosis:                        15.06\n",
       "===================================================================================\n",
       "\n",
       "Warnings:\n",
       "[1] Covariance matrix calculated using the outer product of gradients (complex-step).\n",
       "\"\"\""
      ]
     },
     "execution_count": 23,
     "metadata": {},
     "output_type": "execute_result"
    }
   ],
   "source": [
    "model=ARIMA(gold_train['Close'],order=(0,1,0))\n",
    "model=model.fit()\n",
    "model.summary()"
   ]
  },
  {
   "cell_type": "code",
   "execution_count": 24,
   "id": "494c4317",
   "metadata": {},
   "outputs": [
    {
     "data": {
      "text/plain": [
       "<Axes: >"
      ]
     },
     "execution_count": 24,
     "metadata": {},
     "output_type": "execute_result"
    },
    {
     "data": {
      "image/png": "[encoded data removed]",
      "text/plain": [
       "<Figure size 640x480 with 1 Axes>"
      ]
     },
     "metadata": {},
     "output_type": "display_data"
    }
   ],
   "source": [
    "start=len(gold_train)\n",
    "end=len(gold_train)+len(gold_test)-1\n",
    "pred=model.predict(start=start,end=end,typ='levels').rename('ARIMA Predictions')\n",
    "pred.plot(legend=True)\n",
    "gold_test['Close'].plot(legend=True)"
   ]
  },
  {
   "cell_type": "code",
   "execution_count": 25,
   "id": "4c577787",
   "metadata": {},
   "outputs": [
    {
     "name": "stdout",
     "output_type": "stream",
     "text": [
      "154.92466275967428\n"
     ]
    }
   ],
   "source": [
    "from sklearn.metrics import mean_squared_error\n",
    "from math import sqrt\n",
    "gold_test['Close'].mean()\n",
    "rmse=sqrt(mean_squared_error(pred,gold_test['Close']))\n",
    "print(rmse)"
   ]
  },
  {
   "cell_type": "code",
   "execution_count": 27,
   "id": "594d8d0e",
   "metadata": {},
   "outputs": [
    {
     "data": {
      "text/html": [
       "<div>\n",
       "<style scoped>\n",
       "    .dataframe tbody tr th:only-of-type {\n",
       "        vertical-align: middle;\n",
       "    }\n",
       "\n",
       "    .dataframe tbody tr th {\n",
       "        vertical-align: top;\n",
       "    }\n",
       "\n",
       "    .dataframe thead th {\n",
       "        text-align: right;\n",
       "    }\n",
       "</style>\n",
       "<table border=\"1\" class=\"dataframe\">\n",
       "  <thead>\n",
       "    <tr style=\"text-align: right;\">\n",
       "      <th></th>\n",
       "      <th>Date</th>\n",
       "      <th>Close</th>\n",
       "    </tr>\n",
       "  </thead>\n",
       "  <tbody>\n",
       "    <tr>\n",
       "      <th>2668</th>\n",
       "      <td>2023-08-14</td>\n",
       "      <td>1910.599976</td>\n",
       "    </tr>\n",
       "    <tr>\n",
       "      <th>2669</th>\n",
       "      <td>2023-08-15</td>\n",
       "      <td>1902.500000</td>\n",
       "    </tr>\n",
       "    <tr>\n",
       "      <th>2670</th>\n",
       "      <td>2023-08-16</td>\n",
       "      <td>1896.099976</td>\n",
       "    </tr>\n",
       "    <tr>\n",
       "      <th>2671</th>\n",
       "      <td>2023-08-17</td>\n",
       "      <td>1884.099976</td>\n",
       "    </tr>\n",
       "    <tr>\n",
       "      <th>2672</th>\n",
       "      <td>2023-08-18</td>\n",
       "      <td>1886.099976</td>\n",
       "    </tr>\n",
       "  </tbody>\n",
       "</table>\n",
       "</div>"
      ],
      "text/plain": [
       "           Date        Close\n",
       "2668 2023-08-14  1910.599976\n",
       "2669 2023-08-15  1902.500000\n",
       "2670 2023-08-16  1896.099976\n",
       "2671 2023-08-17  1884.099976\n",
       "2672 2023-08-18  1886.099976"
      ]
     },
     "execution_count": 27,
     "metadata": {},
     "output_type": "execute_result"
    }
   ],
   "source": [
    "model2=ARIMA(gold_price['Close'],order=(0,1,0))\n",
    "model2=model2.fit()\n",
    "gold_price.tail()"
   ]
  },
  {
   "cell_type": "code",
   "execution_count": 29,
   "id": "6c48315e",
   "metadata": {},
   "outputs": [
    {
     "name": "stdout",
     "output_type": "stream",
     "text": [
      "2023-08-19    1886.099976\n",
      "2023-08-20    1886.099976\n",
      "2023-08-21    1886.099976\n",
      "2023-08-22    1886.099976\n",
      "2023-08-23    1886.099976\n",
      "2023-08-24    1886.099976\n",
      "2023-08-25    1886.099976\n",
      "2023-08-26    1886.099976\n",
      "2023-08-27    1886.099976\n",
      "2023-08-28    1886.099976\n",
      "2023-08-29    1886.099976\n",
      "2023-08-30    1886.099976\n",
      "2023-08-31    1886.099976\n",
      "2023-09-01    1886.099976\n",
      "2023-09-02    1886.099976\n",
      "2023-09-03    1886.099976\n",
      "2023-09-04    1886.099976\n",
      "2023-09-05    1886.099976\n",
      "2023-09-06    1886.099976\n",
      "2023-09-07    1886.099976\n",
      "2023-09-08    1886.099976\n",
      "2023-09-09    1886.099976\n",
      "2023-09-10    1886.099976\n",
      "2023-09-11    1886.099976\n",
      "2023-09-12    1886.099976\n",
      "2023-09-13    1886.099976\n",
      "2023-09-14    1886.099976\n",
      "2023-09-15    1886.099976\n",
      "2023-09-16    1886.099976\n",
      "2023-09-17    1886.099976\n",
      "2023-09-18    1886.099976\n",
      "Freq: D, Name: ARIMA Predictions, dtype: float64\n"
     ]
    }
   ],
   "source": [
    "index_future_dates=pd.date_range(start='2023-08-19',end='2023-09-18')\n",
    "pred=model2.predict(start=len(gold_price),end=len(gold_price)+30,typ='levels').rename('ARIMA Predictions')\n",
    "pred.index=index_future_dates\n",
    "print(pred)"
   ]
  },
  {
   "cell_type": "code",
   "execution_count": null,
   "id": "988efbe2",
   "metadata": {},
   "outputs": [],
   "source": []
  }
 ],
 "metadata": {
  "kernelspec": {
   "display_name": "Python 3 (ipykernel)",
   "language": "python",
   "name": "python3"
  },
  "language_info": {
   "codemirror_mode": {
    "name": "ipython",
    "version": 3
   },
   "file_extension": ".py",
   "mimetype": "text/x-python",
   "name": "python",
   "nbconvert_exporter": "python",
   "pygments_lexer": "ipython3",
   "version": "3.11.2"
  }
 },
 "nbformat": 4,
 "nbformat_minor": 5
}
