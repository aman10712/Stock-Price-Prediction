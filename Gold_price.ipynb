{
 "cells": [
  {
   "cell_type": "code",
   "execution_count": 35,
   "id": "feab4d78",
   "metadata": {},
   "outputs": [],
   "source": [
    "import pandas as pd\n",
    "import matplotlib.pyplot as plt\n",
    "import seaborn as sns\n",
    "import numpy as np\n",
    "\n",
    "import warnings\n",
    "warnings.filterwarnings('ignore')"
   ]
  },
  {
   "cell_type": "code",
   "execution_count": 2,
   "id": "7ad3e1dd",
   "metadata": {},
   "outputs": [],
   "source": [
    "gold = pd.read_csv('Gold_Price.csv')"
   ]
  },
  {
   "cell_type": "code",
   "execution_count": 3,
   "id": "96a36c52",
   "metadata": {},
   "outputs": [
    {
     "data": {
      "text/html": [
       "<div>\n",
       "<style scoped>\n",
       "    .dataframe tbody tr th:only-of-type {\n",
       "        vertical-align: middle;\n",
       "    }\n",
       "\n",
       "    .dataframe tbody tr th {\n",
       "        vertical-align: top;\n",
       "    }\n",
       "\n",
       "    .dataframe thead th {\n",
       "        text-align: right;\n",
       "    }\n",
       "</style>\n",
       "<table border=\"1\" class=\"dataframe\">\n",
       "  <thead>\n",
       "    <tr style=\"text-align: right;\">\n",
       "      <th></th>\n",
       "      <th>Date</th>\n",
       "      <th>Open</th>\n",
       "      <th>High</th>\n",
       "      <th>Low</th>\n",
       "      <th>Close</th>\n",
       "      <th>Adj Close</th>\n",
       "      <th>Volume</th>\n",
       "    </tr>\n",
       "  </thead>\n",
       "  <tbody>\n",
       "    <tr>\n",
       "      <th>0</th>\n",
       "      <td>2013-01-02</td>\n",
       "      <td>1672.800049</td>\n",
       "      <td>1693.800049</td>\n",
       "      <td>1670.000000</td>\n",
       "      <td>1687.900024</td>\n",
       "      <td>1687.900024</td>\n",
       "      <td>35</td>\n",
       "    </tr>\n",
       "    <tr>\n",
       "      <th>1</th>\n",
       "      <td>2013-01-03</td>\n",
       "      <td>1686.099976</td>\n",
       "      <td>1686.800049</td>\n",
       "      <td>1662.000000</td>\n",
       "      <td>1673.699951</td>\n",
       "      <td>1673.699951</td>\n",
       "      <td>140</td>\n",
       "    </tr>\n",
       "    <tr>\n",
       "      <th>2</th>\n",
       "      <td>2013-01-04</td>\n",
       "      <td>1647.000000</td>\n",
       "      <td>1658.300049</td>\n",
       "      <td>1625.699951</td>\n",
       "      <td>1648.099976</td>\n",
       "      <td>1648.099976</td>\n",
       "      <td>199</td>\n",
       "    </tr>\n",
       "    <tr>\n",
       "      <th>3</th>\n",
       "      <td>2013-01-07</td>\n",
       "      <td>1656.500000</td>\n",
       "      <td>1659.900024</td>\n",
       "      <td>1643.800049</td>\n",
       "      <td>1645.500000</td>\n",
       "      <td>1645.500000</td>\n",
       "      <td>49</td>\n",
       "    </tr>\n",
       "    <tr>\n",
       "      <th>4</th>\n",
       "      <td>2013-01-08</td>\n",
       "      <td>1647.699951</td>\n",
       "      <td>1661.500000</td>\n",
       "      <td>1647.699951</td>\n",
       "      <td>1661.500000</td>\n",
       "      <td>1661.500000</td>\n",
       "      <td>17</td>\n",
       "    </tr>\n",
       "    <tr>\n",
       "      <th>...</th>\n",
       "      <td>...</td>\n",
       "      <td>...</td>\n",
       "      <td>...</td>\n",
       "      <td>...</td>\n",
       "      <td>...</td>\n",
       "      <td>...</td>\n",
       "      <td>...</td>\n",
       "    </tr>\n",
       "    <tr>\n",
       "      <th>2668</th>\n",
       "      <td>2023-08-14</td>\n",
       "      <td>1909.300049</td>\n",
       "      <td>1912.599976</td>\n",
       "      <td>1903.300049</td>\n",
       "      <td>1910.599976</td>\n",
       "      <td>1910.599976</td>\n",
       "      <td>46</td>\n",
       "    </tr>\n",
       "    <tr>\n",
       "      <th>2669</th>\n",
       "      <td>2023-08-15</td>\n",
       "      <td>1906.000000</td>\n",
       "      <td>1907.699951</td>\n",
       "      <td>1895.000000</td>\n",
       "      <td>1902.500000</td>\n",
       "      <td>1902.500000</td>\n",
       "      <td>73</td>\n",
       "    </tr>\n",
       "    <tr>\n",
       "      <th>2670</th>\n",
       "      <td>2023-08-16</td>\n",
       "      <td>1904.500000</td>\n",
       "      <td>1904.500000</td>\n",
       "      <td>1890.300049</td>\n",
       "      <td>1896.099976</td>\n",
       "      <td>1896.099976</td>\n",
       "      <td>22</td>\n",
       "    </tr>\n",
       "    <tr>\n",
       "      <th>2671</th>\n",
       "      <td>2023-08-17</td>\n",
       "      <td>1893.699951</td>\n",
       "      <td>1902.400024</td>\n",
       "      <td>1884.000000</td>\n",
       "      <td>1884.099976</td>\n",
       "      <td>1884.099976</td>\n",
       "      <td>245</td>\n",
       "    </tr>\n",
       "    <tr>\n",
       "      <th>2672</th>\n",
       "      <td>2023-08-18</td>\n",
       "      <td>1891.800049</td>\n",
       "      <td>1891.800049</td>\n",
       "      <td>1886.099976</td>\n",
       "      <td>1886.099976</td>\n",
       "      <td>1886.099976</td>\n",
       "      <td>19</td>\n",
       "    </tr>\n",
       "  </tbody>\n",
       "</table>\n",
       "<p>2673 rows × 7 columns</p>\n",
       "</div>"
      ],
      "text/plain": [
       "            Date         Open         High          Low        Close  \\\n",
       "0     2013-01-02  1672.800049  1693.800049  1670.000000  1687.900024   \n",
       "1     2013-01-03  1686.099976  1686.800049  1662.000000  1673.699951   \n",
       "2     2013-01-04  1647.000000  1658.300049  1625.699951  1648.099976   \n",
       "3     2013-01-07  1656.500000  1659.900024  1643.800049  1645.500000   \n",
       "4     2013-01-08  1647.699951  1661.500000  1647.699951  1661.500000   \n",
       "...          ...          ...          ...          ...          ...   \n",
       "2668  2023-08-14  1909.300049  1912.599976  1903.300049  1910.599976   \n",
       "2669  2023-08-15  1906.000000  1907.699951  1895.000000  1902.500000   \n",
       "2670  2023-08-16  1904.500000  1904.500000  1890.300049  1896.099976   \n",
       "2671  2023-08-17  1893.699951  1902.400024  1884.000000  1884.099976   \n",
       "2672  2023-08-18  1891.800049  1891.800049  1886.099976  1886.099976   \n",
       "\n",
       "        Adj Close  Volume  \n",
       "0     1687.900024      35  \n",
       "1     1673.699951     140  \n",
       "2     1648.099976     199  \n",
       "3     1645.500000      49  \n",
       "4     1661.500000      17  \n",
       "...           ...     ...  \n",
       "2668  1910.599976      46  \n",
       "2669  1902.500000      73  \n",
       "2670  1896.099976      22  \n",
       "2671  1884.099976     245  \n",
       "2672  1886.099976      19  \n",
       "\n",
       "[2673 rows x 7 columns]"
      ]
     },
     "execution_count": 3,
     "metadata": {},
     "output_type": "execute_result"
    }
   ],
   "source": [
    "gold"
   ]
  },
  {
   "cell_type": "code",
   "execution_count": 4,
   "id": "47778ea4",
   "metadata": {},
   "outputs": [],
   "source": [
    "gold_price = gold[['Date','Close']]"
   ]
  },
  {
   "cell_type": "code",
   "execution_count": 5,
   "id": "cb180cca",
   "metadata": {},
   "outputs": [
    {
     "data": {
      "text/html": [
       "<div>\n",
       "<style scoped>\n",
       "    .dataframe tbody tr th:only-of-type {\n",
       "        vertical-align: middle;\n",
       "    }\n",
       "\n",
       "    .dataframe tbody tr th {\n",
       "        vertical-align: top;\n",
       "    }\n",
       "\n",
       "    .dataframe thead th {\n",
       "        text-align: right;\n",
       "    }\n",
       "</style>\n",
       "<table border=\"1\" class=\"dataframe\">\n",
       "  <thead>\n",
       "    <tr style=\"text-align: right;\">\n",
       "      <th></th>\n",
       "      <th>Date</th>\n",
       "      <th>Close</th>\n",
       "    </tr>\n",
       "  </thead>\n",
       "  <tbody>\n",
       "    <tr>\n",
       "      <th>0</th>\n",
       "      <td>2013-01-02</td>\n",
       "      <td>1687.900024</td>\n",
       "    </tr>\n",
       "    <tr>\n",
       "      <th>1</th>\n",
       "      <td>2013-01-03</td>\n",
       "      <td>1673.699951</td>\n",
       "    </tr>\n",
       "    <tr>\n",
       "      <th>2</th>\n",
       "      <td>2013-01-04</td>\n",
       "      <td>1648.099976</td>\n",
       "    </tr>\n",
       "    <tr>\n",
       "      <th>3</th>\n",
       "      <td>2013-01-07</td>\n",
       "      <td>1645.500000</td>\n",
       "    </tr>\n",
       "    <tr>\n",
       "      <th>4</th>\n",
       "      <td>2013-01-08</td>\n",
       "      <td>1661.500000</td>\n",
       "    </tr>\n",
       "    <tr>\n",
       "      <th>...</th>\n",
       "      <td>...</td>\n",
       "      <td>...</td>\n",
       "    </tr>\n",
       "    <tr>\n",
       "      <th>2668</th>\n",
       "      <td>2023-08-14</td>\n",
       "      <td>1910.599976</td>\n",
       "    </tr>\n",
       "    <tr>\n",
       "      <th>2669</th>\n",
       "      <td>2023-08-15</td>\n",
       "      <td>1902.500000</td>\n",
       "    </tr>\n",
       "    <tr>\n",
       "      <th>2670</th>\n",
       "      <td>2023-08-16</td>\n",
       "      <td>1896.099976</td>\n",
       "    </tr>\n",
       "    <tr>\n",
       "      <th>2671</th>\n",
       "      <td>2023-08-17</td>\n",
       "      <td>1884.099976</td>\n",
       "    </tr>\n",
       "    <tr>\n",
       "      <th>2672</th>\n",
       "      <td>2023-08-18</td>\n",
       "      <td>1886.099976</td>\n",
       "    </tr>\n",
       "  </tbody>\n",
       "</table>\n",
       "<p>2673 rows × 2 columns</p>\n",
       "</div>"
      ],
      "text/plain": [
       "            Date        Close\n",
       "0     2013-01-02  1687.900024\n",
       "1     2013-01-03  1673.699951\n",
       "2     2013-01-04  1648.099976\n",
       "3     2013-01-07  1645.500000\n",
       "4     2013-01-08  1661.500000\n",
       "...          ...          ...\n",
       "2668  2023-08-14  1910.599976\n",
       "2669  2023-08-15  1902.500000\n",
       "2670  2023-08-16  1896.099976\n",
       "2671  2023-08-17  1884.099976\n",
       "2672  2023-08-18  1886.099976\n",
       "\n",
       "[2673 rows x 2 columns]"
      ]
     },
     "execution_count": 5,
     "metadata": {},
     "output_type": "execute_result"
    }
   ],
   "source": [
    "gold_price"
   ]
  },
  {
   "cell_type": "code",
   "execution_count": 6,
   "id": "bae293c8",
   "metadata": {},
   "outputs": [
    {
     "data": {
      "text/plain": [
       "(2673, 2)"
      ]
     },
     "execution_count": 6,
     "metadata": {},
     "output_type": "execute_result"
    }
   ],
   "source": [
    "gold_price.shape"
   ]
  },
  {
   "cell_type": "code",
   "execution_count": 7,
   "id": "85634704",
   "metadata": {},
   "outputs": [
    {
     "data": {
      "text/plain": [
       "Date     0\n",
       "Close    0\n",
       "dtype: int64"
      ]
     },
     "execution_count": 7,
     "metadata": {},
     "output_type": "execute_result"
    }
   ],
   "source": [
    "gold_price.isna().sum()"
   ]
  },
  {
   "cell_type": "code",
   "execution_count": 8,
   "id": "300afddb",
   "metadata": {},
   "outputs": [
    {
     "data": {
      "text/plain": [
       "Date      object\n",
       "Close    float64\n",
       "dtype: object"
      ]
     },
     "execution_count": 8,
     "metadata": {},
     "output_type": "execute_result"
    }
   ],
   "source": [
    "gold_price.dtypes"
   ]
  },
  {
   "cell_type": "code",
   "execution_count": 9,
   "id": "66825e09",
   "metadata": {},
   "outputs": [],
   "source": [
    "gold_price['Date'] = pd.to_datetime(gold_price['Date'])"
   ]
  },
  {
   "cell_type": "code",
   "execution_count": 10,
   "id": "5e8b11b3",
   "metadata": {},
   "outputs": [
    {
     "data": {
      "text/plain": [
       "Date     datetime64[ns]\n",
       "Close           float64\n",
       "dtype: object"
      ]
     },
     "execution_count": 10,
     "metadata": {},
     "output_type": "execute_result"
    }
   ],
   "source": [
    "gold_price.dtypes"
   ]
  },
  {
   "cell_type": "code",
   "execution_count": 11,
   "id": "40b2da13",
   "metadata": {},
   "outputs": [
    {
     "data": {
      "text/plain": [
       "[<matplotlib.lines.Line2D at 0x270ba66b690>]"
      ]
     },
     "execution_count": 11,
     "metadata": {},
     "output_type": "execute_result"
    },
    {
     "data": {
      "image/png": "[encoded data removed]",
      "text/plain": [
       "<Figure size 1000x600 with 1 Axes>"
      ]
     },
     "metadata": {},
     "output_type": "display_data"
    }
   ],
   "source": [
    "plt.figure(figsize=(10, 6))\n",
    "plt.plot(gold_price['Date'],gold_price['Close'])"
   ]
  },
  {
   "cell_type": "code",
   "execution_count": 17,
   "id": "0038f5b5",
   "metadata": {},
   "outputs": [
    {
     "name": "stdout",
     "output_type": "stream",
     "text": [
      "Collecting pmdarima\n",
      "  Downloading pmdarima-2.0.3-cp311-cp311-win_amd64.whl (566 kB)\n",
      "     ------------------------------------ 566.2/566.2 kB 423.4 kB/s eta 0:00:00\n",
      "Requirement already satisfied: joblib>=0.11 in c:\\users\\hp\\appdata\\local\\programs\\python\\python311\\lib\\site-packages (from pmdarima) (1.2.0)\n",
      "Collecting Cython!=0.29.18,!=0.29.31,>=0.29\n",
      "  Downloading Cython-3.0.0-cp311-cp311-win_amd64.whl (2.8 MB)\n",
      "     ---------------------------------------- 2.8/2.8 MB 1.1 MB/s eta 0:00:00\n",
      "Requirement already satisfied: numpy>=1.21.2 in c:\\users\\hp\\appdata\\local\\programs\\python\\python311\\lib\\site-packages (from pmdarima) (1.23.5)\n",
      "Requirement already satisfied: pandas>=0.19 in c:\\users\\hp\\appdata\\local\\programs\\python\\python311\\lib\\site-packages (from pmdarima) (1.5.3)\n",
      "Requirement already satisfied: scikit-learn>=0.22 in c:\\users\\hp\\appdata\\local\\programs\\python\\python311\\lib\\site-packages (from pmdarima) (1.2.2)\n",
      "Requirement already satisfied: scipy>=1.3.2 in c:\\users\\hp\\appdata\\local\\programs\\python\\python311\\lib\\site-packages (from pmdarima) (1.10.1)\n",
      "Requirement already satisfied: statsmodels>=0.13.2 in c:\\users\\hp\\appdata\\local\\programs\\python\\python311\\lib\\site-packages (from pmdarima) (0.13.5)\n",
      "Requirement already satisfied: urllib3 in c:\\users\\hp\\appdata\\local\\programs\\python\\python311\\lib\\site-packages (from pmdarima) (1.26.16)\n",
      "Requirement already satisfied: setuptools!=50.0.0,>=38.6.0 in c:\\users\\hp\\appdata\\local\\programs\\python\\python311\\lib\\site-packages (from pmdarima) (68.0.0)\n",
      "Requirement already satisfied: python-dateutil>=2.8.1 in c:\\users\\hp\\appdata\\local\\programs\\python\\python311\\lib\\site-packages (from pandas>=0.19->pmdarima) (2.8.2)\n",
      "Requirement already satisfied: pytz>=2020.1 in c:\\users\\hp\\appdata\\local\\programs\\python\\python311\\lib\\site-packages (from pandas>=0.19->pmdarima) (2022.7.1)\n",
      "Requirement already satisfied: threadpoolctl>=2.0.0 in c:\\users\\hp\\appdata\\local\\programs\\python\\python311\\lib\\site-packages (from scikit-learn>=0.22->pmdarima) (3.1.0)\n",
      "Requirement already satisfied: patsy>=0.5.2 in c:\\users\\hp\\appdata\\local\\programs\\python\\python311\\lib\\site-packages (from statsmodels>=0.13.2->pmdarima) (0.5.3)\n",
      "Requirement already satisfied: packaging>=21.3 in c:\\users\\hp\\appdata\\local\\programs\\python\\python311\\lib\\site-packages (from statsmodels>=0.13.2->pmdarima) (23.0)\n",
      "Requirement already satisfied: six in c:\\users\\hp\\appdata\\local\\programs\\python\\python311\\lib\\site-packages (from patsy>=0.5.2->statsmodels>=0.13.2->pmdarima) (1.16.0)\n",
      "Installing collected packages: Cython, pmdarima\n",
      "Successfully installed Cython-3.0.0 pmdarima-2.0.3\n"
     ]
    },
    {
     "name": "stderr",
     "output_type": "stream",
     "text": [
      "\n",
      "[notice] A new release of pip available: 22.3.1 -> 23.2.1\n",
      "[notice] To update, run: python.exe -m pip install --upgrade pip\n"
     ]
    }
   ],
   "source": [
    "! pip install pmdarima"
   ]
  },
  {
   "cell_type": "code",
   "execution_count": 12,
   "id": "598ca806",
   "metadata": {},
   "outputs": [],
   "source": [
    "import pmdarima as pm"
   ]
  },
  {
   "cell_type": "code",
   "execution_count": 13,
   "id": "6650a58e",
   "metadata": {},
   "outputs": [
    {
     "name": "stdout",
     "output_type": "stream",
     "text": [
      "Performing stepwise search to minimize aic\n",
      " ARIMA(2,1,2)(0,0,0)[0] intercept   : AIC=22016.007, Time=2.67 sec\n",
      " ARIMA(0,1,0)(0,0,0)[0] intercept   : AIC=22015.214, Time=0.08 sec\n",
      " ARIMA(1,1,0)(0,0,0)[0] intercept   : AIC=22013.871, Time=0.15 sec\n",
      " ARIMA(0,1,1)(0,0,0)[0] intercept   : AIC=22013.827, Time=0.41 sec\n",
      " ARIMA(0,1,0)(0,0,0)[0]             : AIC=22013.280, Time=0.06 sec\n",
      " ARIMA(1,1,1)(0,0,0)[0] intercept   : AIC=22015.798, Time=1.54 sec\n",
      "\n",
      "Best model:  ARIMA(0,1,0)(0,0,0)[0]          \n",
      "Total fit time: 4.918 seconds\n",
      "                               SARIMAX Results                                \n",
      "==============================================================================\n",
      "Dep. Variable:                      y   No. Observations:                 2673\n",
      "Model:               SARIMAX(0, 1, 0)   Log Likelihood              -11005.640\n",
      "Date:                Wed, 23 Aug 2023   AIC                          22013.280\n",
      "Time:                        08:13:01   BIC                          22019.171\n",
      "Sample:                             0   HQIC                         22015.412\n",
      "                               - 2673                                         \n",
      "Covariance Type:                  opg                                         \n",
      "==============================================================================\n",
      "                 coef    std err          z      P>|z|      [0.025      0.975]\n",
      "------------------------------------------------------------------------------\n",
      "sigma2       221.3799      2.765     80.075      0.000     215.961     226.799\n",
      "===================================================================================\n",
      "Ljung-Box (L1) (Q):                   3.34   Jarque-Bera (JB):              6599.10\n",
      "Prob(Q):                              0.07   Prob(JB):                         0.00\n",
      "Heteroskedasticity (H):               1.79   Skew:                            -0.58\n",
      "Prob(H) (two-sided):                  0.00   Kurtosis:                        10.61\n",
      "===================================================================================\n",
      "\n",
      "Warnings:\n",
      "[1] Covariance matrix calculated using the outer product of gradients (complex-step).\n"
     ]
    }
   ],
   "source": [
    "stepwise = pm.auto_arima(gold_price['Close'],trace=True,error_action='ignore',suppress_warnings=True)\n",
    "print(stepwise.summary())"
   ]
  },
  {
   "cell_type": "code",
   "execution_count": 15,
   "id": "25dfa3d0",
   "metadata": {},
   "outputs": [
    {
     "data": {
      "text/plain": [
       "(2673, 2)"
      ]
     },
     "execution_count": 15,
     "metadata": {},
     "output_type": "execute_result"
    }
   ],
   "source": [
    "gold_price.shape"
   ]
  },
  {
   "cell_type": "code",
   "execution_count": 18,
   "id": "90a4f8ab",
   "metadata": {},
   "outputs": [],
   "source": [
    "gold_train=gold_price.head(1870)"
   ]
  },
  {
   "cell_type": "code",
   "execution_count": 19,
   "id": "2930ce4c",
   "metadata": {},
   "outputs": [
    {
     "data": {
      "text/html": [
       "<div>\n",
       "<style scoped>\n",
       "    .dataframe tbody tr th:only-of-type {\n",
       "        vertical-align: middle;\n",
       "    }\n",
       "\n",
       "    .dataframe tbody tr th {\n",
       "        vertical-align: top;\n",
       "    }\n",
       "\n",
       "    .dataframe thead th {\n",
       "        text-align: right;\n",
       "    }\n",
       "</style>\n",
       "<table border=\"1\" class=\"dataframe\">\n",
       "  <thead>\n",
       "    <tr style=\"text-align: right;\">\n",
       "      <th></th>\n",
       "      <th>Date</th>\n",
       "      <th>Close</th>\n",
       "    </tr>\n",
       "  </thead>\n",
       "  <tbody>\n",
       "    <tr>\n",
       "      <th>0</th>\n",
       "      <td>2013-01-02</td>\n",
       "      <td>1687.900024</td>\n",
       "    </tr>\n",
       "    <tr>\n",
       "      <th>1</th>\n",
       "      <td>2013-01-03</td>\n",
       "      <td>1673.699951</td>\n",
       "    </tr>\n",
       "    <tr>\n",
       "      <th>2</th>\n",
       "      <td>2013-01-04</td>\n",
       "      <td>1648.099976</td>\n",
       "    </tr>\n",
       "    <tr>\n",
       "      <th>3</th>\n",
       "      <td>2013-01-07</td>\n",
       "      <td>1645.500000</td>\n",
       "    </tr>\n",
       "    <tr>\n",
       "      <th>4</th>\n",
       "      <td>2013-01-08</td>\n",
       "      <td>1661.500000</td>\n",
       "    </tr>\n",
       "    <tr>\n",
       "      <th>...</th>\n",
       "      <td>...</td>\n",
       "      <td>...</td>\n",
       "    </tr>\n",
       "    <tr>\n",
       "      <th>1865</th>\n",
       "      <td>2020-06-04</td>\n",
       "      <td>1718.900024</td>\n",
       "    </tr>\n",
       "    <tr>\n",
       "      <th>1866</th>\n",
       "      <td>2020-06-05</td>\n",
       "      <td>1676.199951</td>\n",
       "    </tr>\n",
       "    <tr>\n",
       "      <th>1867</th>\n",
       "      <td>2020-06-08</td>\n",
       "      <td>1698.300049</td>\n",
       "    </tr>\n",
       "    <tr>\n",
       "      <th>1868</th>\n",
       "      <td>2020-06-09</td>\n",
       "      <td>1714.699951</td>\n",
       "    </tr>\n",
       "    <tr>\n",
       "      <th>1869</th>\n",
       "      <td>2020-06-10</td>\n",
       "      <td>1713.300049</td>\n",
       "    </tr>\n",
       "  </tbody>\n",
       "</table>\n",
       "<p>1870 rows × 2 columns</p>\n",
       "</div>"
      ],
      "text/plain": [
       "           Date        Close\n",
       "0    2013-01-02  1687.900024\n",
       "1    2013-01-03  1673.699951\n",
       "2    2013-01-04  1648.099976\n",
       "3    2013-01-07  1645.500000\n",
       "4    2013-01-08  1661.500000\n",
       "...         ...          ...\n",
       "1865 2020-06-04  1718.900024\n",
       "1866 2020-06-05  1676.199951\n",
       "1867 2020-06-08  1698.300049\n",
       "1868 2020-06-09  1714.699951\n",
       "1869 2020-06-10  1713.300049\n",
       "\n",
       "[1870 rows x 2 columns]"
      ]
     },
     "execution_count": 19,
     "metadata": {},
     "output_type": "execute_result"
    }
   ],
   "source": [
    "gold_train"
   ]
  },
  {
   "cell_type": "code",
   "execution_count": 20,
   "id": "1193d69e",
   "metadata": {},
   "outputs": [],
   "source": [
    "gold_test = gold_price.tail(803)"
   ]
  },
  {
   "cell_type": "code",
   "execution_count": 21,
   "id": "448e7314",
   "metadata": {},
   "outputs": [
    {
     "data": {
      "text/html": [
       "<div>\n",
       "<style scoped>\n",
       "    .dataframe tbody tr th:only-of-type {\n",
       "        vertical-align: middle;\n",
       "    }\n",
       "\n",
       "    .dataframe tbody tr th {\n",
       "        vertical-align: top;\n",
       "    }\n",
       "\n",
       "    .dataframe thead th {\n",
       "        text-align: right;\n",
       "    }\n",
       "</style>\n",
       "<table border=\"1\" class=\"dataframe\">\n",
       "  <thead>\n",
       "    <tr style=\"text-align: right;\">\n",
       "      <th></th>\n",
       "      <th>Date</th>\n",
       "      <th>Close</th>\n",
       "    </tr>\n",
       "  </thead>\n",
       "  <tbody>\n",
       "    <tr>\n",
       "      <th>1870</th>\n",
       "      <td>2020-06-11</td>\n",
       "      <td>1732.000000</td>\n",
       "    </tr>\n",
       "    <tr>\n",
       "      <th>1871</th>\n",
       "      <td>2020-06-12</td>\n",
       "      <td>1729.300049</td>\n",
       "    </tr>\n",
       "    <tr>\n",
       "      <th>1872</th>\n",
       "      <td>2020-06-15</td>\n",
       "      <td>1720.300049</td>\n",
       "    </tr>\n",
       "    <tr>\n",
       "      <th>1873</th>\n",
       "      <td>2020-06-16</td>\n",
       "      <td>1729.599976</td>\n",
       "    </tr>\n",
       "    <tr>\n",
       "      <th>1874</th>\n",
       "      <td>2020-06-17</td>\n",
       "      <td>1729.199951</td>\n",
       "    </tr>\n",
       "    <tr>\n",
       "      <th>...</th>\n",
       "      <td>...</td>\n",
       "      <td>...</td>\n",
       "    </tr>\n",
       "    <tr>\n",
       "      <th>2668</th>\n",
       "      <td>2023-08-14</td>\n",
       "      <td>1910.599976</td>\n",
       "    </tr>\n",
       "    <tr>\n",
       "      <th>2669</th>\n",
       "      <td>2023-08-15</td>\n",
       "      <td>1902.500000</td>\n",
       "    </tr>\n",
       "    <tr>\n",
       "      <th>2670</th>\n",
       "      <td>2023-08-16</td>\n",
       "      <td>1896.099976</td>\n",
       "    </tr>\n",
       "    <tr>\n",
       "      <th>2671</th>\n",
       "      <td>2023-08-17</td>\n",
       "      <td>1884.099976</td>\n",
       "    </tr>\n",
       "    <tr>\n",
       "      <th>2672</th>\n",
       "      <td>2023-08-18</td>\n",
       "      <td>1886.099976</td>\n",
       "    </tr>\n",
       "  </tbody>\n",
       "</table>\n",
       "<p>803 rows × 2 columns</p>\n",
       "</div>"
      ],
      "text/plain": [
       "           Date        Close\n",
       "1870 2020-06-11  1732.000000\n",
       "1871 2020-06-12  1729.300049\n",
       "1872 2020-06-15  1720.300049\n",
       "1873 2020-06-16  1729.599976\n",
       "1874 2020-06-17  1729.199951\n",
       "...         ...          ...\n",
       "2668 2023-08-14  1910.599976\n",
       "2669 2023-08-15  1902.500000\n",
       "2670 2023-08-16  1896.099976\n",
       "2671 2023-08-17  1884.099976\n",
       "2672 2023-08-18  1886.099976\n",
       "\n",
       "[803 rows x 2 columns]"
      ]
     },
     "execution_count": 21,
     "metadata": {},
     "output_type": "execute_result"
    }
   ],
   "source": [
    "gold_test"
   ]
  },
  {
   "cell_type": "code",
   "execution_count": 22,
   "id": "6b8c5170",
   "metadata": {},
   "outputs": [],
   "source": [
    "from statsmodels.tsa.arima.model import ARIMA"
   ]
  },
  {
   "cell_type": "code",
   "execution_count": 29,
   "id": "d51a6654",
   "metadata": {},
   "outputs": [],
   "source": [
    "model_arima = ARIMA(gold_train['Close'],order=(3,0,1))"
   ]
  },
  {
   "cell_type": "code",
   "execution_count": 30,
   "id": "cff710d4",
   "metadata": {},
   "outputs": [],
   "source": [
    "model_fit = model_arima.fit()"
   ]
  },
  {
   "cell_type": "code",
   "execution_count": 31,
   "id": "d08c38c9",
   "metadata": {},
   "outputs": [],
   "source": [
    "forecast_steps = len(gold_test) \n",
    "forecast = model_fit.forecast(steps=forecast_steps)"
   ]
  },
  {
   "cell_type": "code",
   "execution_count": 33,
   "id": "58ce71c2",
   "metadata": {},
   "outputs": [],
   "source": [
    "from sklearn.metrics import mean_squared_error"
   ]
  },
  {
   "cell_type": "code",
   "execution_count": 36,
   "id": "bd40bb34",
   "metadata": {},
   "outputs": [
    {
     "name": "stdout",
     "output_type": "stream",
     "text": [
      "Root Mean Squared Error: 320.0734816758229\n"
     ]
    }
   ],
   "source": [
    "mse = mean_squared_error(gold_test['Close'], forecast)\n",
    "rmse = np.sqrt(mse)\n",
    "print(\"Root Mean Squared Error:\", rmse)"
   ]
  },
  {
   "cell_type": "code",
   "execution_count": 37,
   "id": "ba0677c7",
   "metadata": {},
   "outputs": [
    {
     "data": {
      "text/plain": [
       "102447.03367208334"
      ]
     },
     "execution_count": 37,
     "metadata": {},
     "output_type": "execute_result"
    }
   ],
   "source": [
    "mse"
   ]
  },
  {
   "cell_type": "code",
   "execution_count": 32,
   "id": "14d49e8c",
   "metadata": {},
   "outputs": [
    {
     "data": {
      "image/png": "[encoded data removed]",
      "text/plain": [
       "<Figure size 1000x600 with 1 Axes>"
      ]
     },
     "metadata": {},
     "output_type": "display_data"
    }
   ],
   "source": [
    "plt.figure(figsize=(10, 6))\n",
    "plt.plot(gold_train.index, gold_train[\"Close\"], label=\"Training Data\")\n",
    "plt.plot(gold_test.index, gold_test[\"Close\"], label=\"Test Data\")\n",
    "plt.plot(gold_test.index, forecast, label=\"Forecast\", linestyle='dashed')\n",
    "plt.show()"
   ]
  },
  {
   "cell_type": "code",
   "execution_count": 38,
   "id": "694e8fcb",
   "metadata": {},
   "outputs": [],
   "source": [
    "forecast_steps = 200\n",
    "forecast = model_fit.forecast(steps=forecast_steps)"
   ]
  },
  {
   "cell_type": "code",
   "execution_count": 39,
   "id": "9a9f7c76",
   "metadata": {},
   "outputs": [
    {
     "name": "stdout",
     "output_type": "stream",
     "text": [
      "1870    1712.845229\n",
      "1871    1712.163267\n",
      "1872    1711.619615\n",
      "1873    1710.987977\n",
      "1874    1710.414861\n",
      "           ...     \n",
      "2065    1611.308833\n",
      "2066    1610.859999\n",
      "2067    1610.411827\n",
      "2068    1609.964315\n",
      "2069    1609.517463\n",
      "Name: predicted_mean, Length: 200, dtype: float64\n"
     ]
    }
   ],
   "source": [
    "print(forecast)"
   ]
  },
  {
   "cell_type": "code",
   "execution_count": null,
   "id": "a6f5fa06",
   "metadata": {},
   "outputs": [],
   "source": []
  }
 ],
 "metadata": {
  "kernelspec": {
   "display_name": "Python 3 (ipykernel)",
   "language": "python",
   "name": "python3"
  },
  "language_info": {
   "codemirror_mode": {
    "name": "ipython",
    "version": 3
   },
   "file_extension": ".py",
   "mimetype": "text/x-python",
   "name": "python",
   "nbconvert_exporter": "python",
   "pygments_lexer": "ipython3",
   "version": "3.11.2"
  }
 },
 "nbformat": 4,
 "nbformat_minor": 5
}
