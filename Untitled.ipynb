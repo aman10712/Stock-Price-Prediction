{
 "cells": [
  {
   "cell_type": "code",
   "execution_count": null,
   "id": "103fcd1e",
   "metadata": {},
   "outputs": [],
   "source": [
    "import yfinance as yf\n",
    "stock = \"GC=F\"\n",
    "gold_data = yf.download(stock, start=\"2013-01-01\", end=\"2023-08-21\")\n",
    "\n",
    "import pandas as pd\n",
    "import matplotlib.pyplot as plt\n",
    "import seaborn as sns\n",
    "import numpy as np\n",
    "import warnings\n",
    "warnings.filterwarnings('ignore')\n",
    "\n",
    "gold = pd.read_csv('Gold_Price.csv')\n",
    "gold_price = gold[['Date','Close']]\n",
    "gold_price['Date'] = pd.to_datetime(gold_price['Date'])\n",
    "from statsmodels.tsa.holtwinters import ExponentialSmoothing\n",
    "model_final = ExponentialSmoothing(gold_price['Close'], trend=None, seasonal='additive', seasonal_periods=365)\n",
    "model_fit_final = model_final.fit()\n",
    "\n",
    "last_date = gold_price['Date'].iloc[-1]  \n",
    "\n",
    "\n",
    "if isinstance(last_date, pd.Timestamp):\n",
    "    future_dates = pd.date_range(start=last_date + pd.Timedelta(days=1), periods=30, freq=\"D\")\n",
    "    \n",
    "else:\n",
    "    print(\"The last date is not a valid timestamp or datetime object.\")\n",
    "    \n",
    "\n",
    "\n",
    "future_dates\n",
    "\n",
    "future_close=model_fit_final.forecast(len(future_dates))\n",
    "\n",
    "forecast_30days = pd.DataFrame({\n",
    "    'Date': future_dates,\n",
    "    'Predicted_Price': future_close\n",
    "})\n",
    "\n",
    "forecast_30days\n"
   ]
  }
 ],
 "metadata": {
  "kernelspec": {
   "display_name": "Python 3 (ipykernel)",
   "language": "python",
   "name": "python3"
  },
  "language_info": {
   "codemirror_mode": {
    "name": "ipython",
    "version": 3
   },
   "file_extension": ".py",
   "mimetype": "text/x-python",
   "name": "python",
   "nbconvert_exporter": "python",
   "pygments_lexer": "ipython3",
   "version": "3.11.2"
  }
 },
 "nbformat": 4,
 "nbformat_minor": 5
}
